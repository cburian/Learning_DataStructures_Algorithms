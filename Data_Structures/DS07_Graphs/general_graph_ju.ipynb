{
 "cells": [
  {
   "cell_type": "code",
   "execution_count": 13,
   "metadata": {},
   "outputs": [
    {
     "name": "stdout",
     "output_type": "stream",
     "text": [
      "[['Mumbai', 'Paris', 'Dubai', 'New York'], ['Mumbai', 'Paris', 'New York'], ['Mumbai', 'Dubai', 'New York']]\n",
      "['Mumbai', 'Paris', 'New York']\n"
     ]
    }
   ],
   "source": [
    "class Graph:\n",
    "    def __init__(self, edges):\n",
    "        self.edges = edges\n",
    "        self.graph_dict = {}\n",
    "        \n",
    "    def graph_to_dict(self):\n",
    "        for start, end in self.edges:\n",
    "            if start in self.graph_dict:\n",
    "                self.graph_dict[start].append(end)\n",
    "            else:\n",
    "                self.graph_dict[start] = [end]\n",
    "#         print('graph dict: ', self.graph_dict)\n",
    "    \n",
    "    def get_path(self, start, end, path=[]):\n",
    "        \n",
    "        path = path + [start]\n",
    "        \n",
    "        if start == end:\n",
    "            return [path]\n",
    "        \n",
    "        if start not in self.graph_dict:\n",
    "            return []\n",
    "        \n",
    "        paths = []\n",
    "        \n",
    "        for node in self.graph_dict[start]:\n",
    "            if node not in path:\n",
    "                new_paths = self.get_path(node, end, path)\n",
    "                for p in new_paths:\n",
    "                    paths.append(p)\n",
    "        \n",
    "        return paths\n",
    "    \n",
    "    def get_shortedst_path(self, start, end, path=[]):\n",
    "        \n",
    "        path = path + [start]\n",
    "        \n",
    "        if start not in self.graph_dict:\n",
    "            return None\n",
    "        \n",
    "        if start == end:\n",
    "            return path\n",
    "        \n",
    "        shortest_path = None\n",
    "        \n",
    "        for node in self.graph_dict[start]:\n",
    "            if node not in path:\n",
    "                sp = self.get_shortedst_path(node, end, path)\n",
    "                if sp:\n",
    "                    if not shortest_path or len(sp) < len(shortest_path):\n",
    "                        shortest_path = sp\n",
    "                    \n",
    "        return shortest_path\n",
    "        \n",
    "routes = [\n",
    "    ('Mumbai', 'Paris'),\n",
    "    ('Mumbai', 'Dubai'),\n",
    "    ('Paris', 'Dubai'),\n",
    "    ('Paris', 'New York'),\n",
    "    ('Dubai', 'New York'),\n",
    "    ('New York', 'Toronto'),\n",
    "]\n",
    "\n",
    "route_graph = Graph(routes)\n",
    "route_graph.graph_to_dict()\n",
    "start = 'Mumbai'\n",
    "end = 'New York'\n",
    "path = route_graph.get_path(start, end)\n",
    "print(path)\n",
    "short_path = route_graph.get_shortedst_path(start, end)\n",
    "print(short_path)"
   ]
  },
  {
   "cell_type": "code",
   "execution_count": null,
   "metadata": {},
   "outputs": [],
   "source": []
  }
 ],
 "metadata": {
  "kernelspec": {
   "display_name": "Python 3",
   "language": "python",
   "name": "python3"
  },
  "language_info": {
   "codemirror_mode": {
    "name": "ipython",
    "version": 3
   },
   "file_extension": ".py",
   "mimetype": "text/x-python",
   "name": "python",
   "nbconvert_exporter": "python",
   "pygments_lexer": "ipython3",
   "version": "3.8.3"
  }
 },
 "nbformat": 4,
 "nbformat_minor": 4
}
