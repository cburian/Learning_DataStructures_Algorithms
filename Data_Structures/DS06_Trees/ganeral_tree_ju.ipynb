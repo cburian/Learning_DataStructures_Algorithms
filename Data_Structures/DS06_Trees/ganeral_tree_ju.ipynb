{
 "cells": [
  {
   "cell_type": "markdown",
   "metadata": {},
   "source": [
    "1. implement tree data structure in python\n",
    "2. exercises"
   ]
  },
  {
   "cell_type": "markdown",
   "metadata": {},
   "source": [
    "## 1. Implementing a tree in python"
   ]
  },
  {
   "cell_type": "code",
   "execution_count": 6,
   "metadata": {},
   "outputs": [
    {
     "name": "stdout",
     "output_type": "stream",
     "text": [
      "Electronics\n",
      "   |--Laptop\n",
      "      |--Mac\n",
      "      |--Surface\n",
      "      |--Thinkpad\n",
      "   |--Cell Phone\n",
      "      |--iPhone\n",
      "      |--Google Pixel\n",
      "      |--Vivo\n",
      "   |--TV\n",
      "      |--Samsung\n",
      "      |--LG\n"
     ]
    }
   ],
   "source": [
    "class TreeNode:\n",
    "    def __init__(self, data):\n",
    "        self.data = data\n",
    "        self.children = []\n",
    "        self.parent = None\n",
    "        \n",
    "    def add_child(self, child):\n",
    "        child.parent = self\n",
    "        self.children.append(child)\n",
    "    \n",
    "    def get_level(self):\n",
    "        level = 0\n",
    "        p = self.parent\n",
    "        while p:\n",
    "            level += 1\n",
    "            p = p.parent\n",
    "        return level\n",
    "    \n",
    "    def print_tree(self):\n",
    "        spaces = ' ' * self.get_level() * 3 \n",
    "        prefix = spaces + '|--' if self.parent else ''  # ternary operator\n",
    "        print(prefix + self.data)\n",
    "        if self.children:\n",
    "            for child in self.children:\n",
    "                child.print_tree()\n",
    "                \n",
    "            \n",
    "##### TEST: #####\n",
    "def build_product_tree():\n",
    "    root = TreeNode(\"Electronics\")\n",
    "\n",
    "    laptop = TreeNode(\"Laptop\")\n",
    "    laptop.add_child(TreeNode(\"Mac\"))\n",
    "    laptop.add_child(TreeNode(\"Surface\"))\n",
    "    laptop.add_child(TreeNode(\"Thinkpad\"))\n",
    "\n",
    "    cellphone = TreeNode(\"Cell Phone\")\n",
    "    cellphone.add_child(TreeNode(\"iPhone\"))\n",
    "    cellphone.add_child(TreeNode(\"Google Pixel\"))\n",
    "    cellphone.add_child(TreeNode(\"Vivo\"))\n",
    "\n",
    "    tv = TreeNode(\"TV\")\n",
    "    tv.add_child(TreeNode(\"Samsung\"))\n",
    "    tv.add_child(TreeNode(\"LG\"))\n",
    "\n",
    "    root.add_child(laptop)\n",
    "    root.add_child(cellphone)\n",
    "    root.add_child(tv)\n",
    "\n",
    "    root.print_tree()\n",
    "\n",
    "\n",
    "build_product_tree()"
   ]
  },
  {
   "cell_type": "markdown",
   "metadata": {},
   "source": [
    "## 2. Tree exercises"
   ]
  },
  {
   "cell_type": "markdown",
   "metadata": {},
   "source": [
    "#### 2.1 Print management hierarchy of a company. \n",
    "Extend tree class so that it takes **name** and **designation** in data part of TreeNode. \n",
    "Extend print_tree method so that it can print either:\n",
    "    - name tree\n",
    "    - designation tree\n",
    "    - name and designation\n"
   ]
  },
  {
   "cell_type": "code",
   "execution_count": null,
   "metadata": {},
   "outputs": [],
   "source": [
    "class TreeNode_1(TreeNode):\n",
    "    def __init__(self, data):\n",
    "        super().__init__(data)\n",
    "        \n",
    "    def print_tree(self, prt_option):\n",
    "        spaces = ' ' * self.get_level() * 3 \n",
    "        prefix = spaces + '|--' if self.parent else ''  # ternary operator\n",
    "        if prt_option == 'name':\n",
    "            print(prefix + f'{self.data[0]}')\n",
    "        elif prt_option == 'designation':\n",
    "            print(prefix + f'{self.data[1]}')\n",
    "        elif prt_option == 'both':\n",
    "            print(prefix + f'{self.data[0]} ({self.data[1]})')\n",
    "        if self.children:\n",
    "            for child in self.children:\n",
    "                child.print_tree(prt_option)\n",
    "\n",
    "                \n",
    "def build_product_tree():\n",
    "    root = TreeNode_1((\"Staniste\", 'CEO'))\n",
    "\n",
    "    cto = TreeNode_1((\"Sandu\", 'CTO'))\n",
    "    cto.add_child(TreeNode_1((\"Cosmin\", 'pielea')))\n",
    "    mam = TreeNode_1((\"Mamusca\", 'bun la toate'))\n",
    "    cto.add_child(mam)\n",
    "\n",
    "    dir_vanzari = TreeNode_1((\"Sergiu\", 'Sales'))\n",
    "    dir_vanzari.add_child(TreeNode_1((\"Sandel\", 'vanzator')))\n",
    "    dir_vanzari.add_child(TreeNode_1((\"Stefi\", 'contabila')))\n",
    "\n",
    "    sef_echipa = TreeNode_1((\"cornel\", 'sef echipa'))\n",
    "    mam.add_child(sef_echipa)\n",
    "    sef_echipa.add_child(TreeNode_1((\"Florin\", 'aghiotant')))\n",
    "    sef_echipa.add_child(TreeNode_1((\"Bela\", 'aghiotant')))\n",
    "    sef_echipa.add_child(TreeNode_1((\"Radu\", 'aghiotant')))\n",
    "    sef_echipa.add_child(TreeNode_1((\"Marian\", 'aghiotant')))\n",
    "\n",
    "    root.add_child(cto)\n",
    "    root.add_child(dir_vanzari)\n",
    "\n",
    "    root.print_tree('both')\n",
    "\n",
    "\n",
    "build_product_tree()"
   ]
  },
  {
   "cell_type": "markdown",
   "metadata": {},
   "source": [
    "#### 2.2 Print by tree level:. \n",
    "Modify print_tree method to take tree level as input. And that should print tree only upto that level as shown below,"
   ]
  },
  {
   "cell_type": "code",
   "execution_count": 23,
   "metadata": {},
   "outputs": [
    {
     "name": "stdout",
     "output_type": "stream",
     "text": [
      "Staniste (CEO)\n",
      "   |--Sandu (CTO)\n",
      "      |--Cosmin (pielea)\n",
      "      |--Mamusca (bun la toate)\n",
      "         |--cornel (sef echipa)\n",
      "   |--Sergiu (Sales)\n",
      "      |--Sandel (vanzator)\n",
      "      |--Stefi (contabila)\n"
     ]
    }
   ],
   "source": [
    "class TreeNode_2(TreeNode):\n",
    "    def __init__(self, data):\n",
    "        super().__init__(data)\n",
    "        \n",
    "    def print_tree(self, level):\n",
    "        spaces = ' ' * self.get_level() * 3 \n",
    "        prefix = spaces + '|--' if self.parent else ''  # ternary operator\n",
    "        print(prefix + f'{self.data[0]} ({self.data[1]})')\n",
    "        \n",
    "        if level > self.get_level():\n",
    "            if self.children:\n",
    "                for child in self.children:\n",
    "                    child.print_tree(level)\n",
    "    \n",
    "    def print_tree2(self, level):\n",
    "        if level < self.get_level():\n",
    "            return\n",
    "        spaces = ' ' * self.get_level() * 3 \n",
    "        prefix = spaces + '|--' if self.parent else ''  # ternary operator\n",
    "        print(prefix + f'{self.data[0]} ({self.data[1]})')\n",
    "        \n",
    "        if self.children:\n",
    "            for child in self.children:\n",
    "                child.print_tree(level)\n",
    "\n",
    "def build_product_tree():\n",
    "    root = TreeNode_2((\"Staniste\", 'CEO'))\n",
    "\n",
    "    cto = TreeNode_2((\"Sandu\", 'CTO'))\n",
    "    cto.add_child(TreeNode_2((\"Cosmin\", 'pielea')))\n",
    "    mam = TreeNode_2((\"Mamusca\", 'bun la toate'))\n",
    "    cto.add_child(mam)\n",
    "\n",
    "    dir_vanzari = TreeNode_2((\"Sergiu\", 'Sales'))\n",
    "    dir_vanzari.add_child(TreeNode_2((\"Sandel\", 'vanzator')))\n",
    "    dir_vanzari.add_child(TreeNode_2((\"Stefi\", 'contabila')))\n",
    "\n",
    "    sef_echipa = TreeNode_2((\"cornel\", 'sef echipa'))\n",
    "    mam.add_child(sef_echipa)\n",
    "    sef_echipa.add_child(TreeNode_2((\"Florin\", 'aghiotant')))\n",
    "    sef_echipa.add_child(TreeNode_2((\"Bela\", 'aghiotant')))\n",
    "    sef_echipa.add_child(TreeNode_2((\"Radu\", 'aghiotant')))\n",
    "    sef_echipa.add_child(TreeNode_2((\"Marian\", 'aghiotant')))\n",
    "\n",
    "    root.add_child(cto)\n",
    "    root.add_child(dir_vanzari)\n",
    "\n",
    "    root.print_tree2(3)\n",
    "\n",
    "\n",
    "build_product_tree()"
   ]
  },
  {
   "cell_type": "code",
   "execution_count": null,
   "metadata": {},
   "outputs": [],
   "source": []
  }
 ],
 "metadata": {
  "kernelspec": {
   "display_name": "Python 3",
   "language": "python",
   "name": "python3"
  },
  "language_info": {
   "codemirror_mode": {
    "name": "ipython",
    "version": 3
   },
   "file_extension": ".py",
   "mimetype": "text/x-python",
   "name": "python",
   "nbconvert_exporter": "python",
   "pygments_lexer": "ipython3",
   "version": "3.8.3"
  }
 },
 "nbformat": 4,
 "nbformat_minor": 4
}
