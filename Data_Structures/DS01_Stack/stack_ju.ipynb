{
 "cells": [
  {
   "cell_type": "markdown",
   "metadata": {},
   "source": [
    "- implement stack class using python list\n",
    "- implement stack class using collections deque\n",
    "- practice with exercises"
   ]
  },
  {
   "cell_type": "markdown",
   "metadata": {},
   "source": [
    "## 1. Stack using python built-in list:"
   ]
  },
  {
   "cell_type": "code",
   "execution_count": 16,
   "metadata": {},
   "outputs": [],
   "source": [
    "class StackLst:\n",
    "    def __init__(self):\n",
    "        self.stack = []\n",
    "        \n",
    "    def push(self, elem):\n",
    "        self.stack.append(elem)\n",
    "        \n",
    "    def pop(self):\n",
    "        if self.stack:\n",
    "            return self.stack.pop()\n",
    "        return None\n",
    "        \n",
    "    def peek(self):\n",
    "        if self.stack:\n",
    "            return self.stack[-1]\n",
    "        return None\n",
    "        \n",
    "    def is_empty(self):\n",
    "        return self.stack == []\n",
    "    \n",
    "    def size(self):\n",
    "        return len(self.stask)\n",
    "    \n",
    "    def content(self):\n",
    "        return self.stack"
   ]
  },
  {
   "cell_type": "markdown",
   "metadata": {},
   "source": [
    "## Issue with using a list as a base for stack:\n",
    "\n",
    "**List** uses **dymanic array** internally and when it reaches its capacity it will reallocate a big chunk of memory somewhere else in memory area and copy all the elements. For example in below diagram if a list has a capacity of 10 and we try to insert 11th element, it will allocate new memory in a different memory region, copy all 10 elements and then insert the 11th element. So overhead here is (1) allocate new memory plus (2) copy all existing elements in new memory area"
   ]
  },
  {
   "cell_type": "markdown",
   "metadata": {},
   "source": [
    "<img src=\"dynamic_memory.png\">"
   ]
  },
  {
   "cell_type": "markdown",
   "metadata": {},
   "source": [
    "A **deque** is a **(doubly-)linked list**.\n",
    "\n",
    "**Python lists** are better for:  \n",
    "- random-access\n",
    "- fixed-length operations, including slicing  \n",
    "\n",
    "**Deques** are useful for:\n",
    "- pushing  \n",
    "- popping things off the ends (with indexing (but not slicing, interestingly) being possible but slower than with lists)."
   ]
  },
  {
   "cell_type": "markdown",
   "metadata": {},
   "source": [
    "## 2. Stack implementation using collections module - deque:"
   ]
  },
  {
   "cell_type": "code",
   "execution_count": 15,
   "metadata": {},
   "outputs": [],
   "source": [
    "class StackDq:\n",
    "    def __init__(self):\n",
    "        from collections import deque\n",
    "        self.stack = deque()\n",
    "    \n",
    "    def push(self, element):\n",
    "        self.stack.append(element)\n",
    "        \n",
    "    def pop(self):\n",
    "        return self.stack.pop()\n",
    "    \n",
    "    def peek(self):\n",
    "        return self.stack[-1]\n",
    "        \n",
    "    def is_empty(self):\n",
    "        return len(self.stack) == 0\n",
    "    \n",
    "    def size(self):\n",
    "        return len(self.stack)\n",
    "    \n",
    "    def prt(self):\n",
    "        for e in self.stack:\n",
    "            print(e, end='')\n",
    "    \n",
    "    def content(self):\n",
    "        stack_list = []\n",
    "        for e in self.stack:\n",
    "            stack_list.append(e)\n",
    "        return stack_list"
   ]
  },
  {
   "cell_type": "markdown",
   "metadata": {},
   "source": [
    "## 3. Exercises:"
   ]
  },
  {
   "cell_type": "markdown",
   "metadata": {},
   "source": [
    "##### 3.1. Write a function in python that can reverse a string using stack data structure.\n",
    "example: reverse_string(\"We will conquere COVID-19\") should return \"91-DIVOC ereuqnoc lliw eW\""
   ]
  },
  {
   "cell_type": "code",
   "execution_count": 14,
   "metadata": {},
   "outputs": [
    {
     "name": "stdout",
     "output_type": "stream",
     "text": [
      "91-DIVOC ereuqnoc lliw eW"
     ]
    },
    {
     "data": {
      "text/plain": [
       "<__main__.StackDq at 0x161cdd61d90>"
      ]
     },
     "execution_count": 14,
     "metadata": {},
     "output_type": "execute_result"
    }
   ],
   "source": [
    "def reverse_str(data: str):\n",
    "\n",
    "    original_data = StackDq()\n",
    "    for char in data:\n",
    "        original_data.push(char)\n",
    "    reversed_data = StackDq()\n",
    "    \n",
    "    for _ in data:\n",
    "        reversed_data.push(original_data.pop())\n",
    "    \n",
    "    reversed_data.prt()\n",
    "    \n",
    "    return reversed_data\n",
    "\n",
    "reverse_str('We will conquere COVID-19')"
   ]
  },
  {
   "cell_type": "markdown",
   "metadata": {},
   "source": [
    "##### 3.2. Write a function in python that checks if paranthesis in the string are balanced or not. Possible parantheses are \"{}',\"()\" or \"[]\".\n",
    "\n",
    "example:  \n",
    "is_balanced(\"({a+b})\")     --> True  \n",
    "is_balanced(\"))((a+b}{\")   --> False  \n",
    "is_balanced(\"((a+b))\")     --> True  \n",
    "is_balanced(\"))\")          --> False  \n",
    "is_balanced(\"[a+b]*(x+2y)*{gg+kk}\") --> True"
   ]
  },
  {
   "cell_type": "code",
   "execution_count": null,
   "metadata": {},
   "outputs": [],
   "source": []
  },
  {
   "cell_type": "code",
   "execution_count": 17,
   "metadata": {},
   "outputs": [],
   "source": [
    "def is_balanced(data: str):\n",
    "    s_dict = {')': '(', ']': '[', '}': '{'}\n",
    "    stack = StackDq()\n",
    "    iteration = 0\n",
    "\n",
    "    for symbol in data:\n",
    "        if symbol in s_dict.values():\n",
    "            stack.push(symbol)\n",
    "        if symbol in s_dict.keys():\n",
    "            if stack.is_empty() or s_dict[symbol] != stack.peek():\n",
    "                return False, iteration\n",
    "            else:\n",
    "                stack.pop()\n",
    "        iteration += 1\n",
    "        # print(stack.content())\n",
    "    return stack.is_empty(), iteration"
   ]
  },
  {
   "cell_type": "code",
   "execution_count": 19,
   "metadata": {},
   "outputs": [
    {
     "name": "stdout",
     "output_type": "stream",
     "text": [
      "test 1. with test value: ([{}])\n",
      "(True, 6)\n",
      "test 2. with test value: (([{])\n",
      "(False, 4)\n",
      "test 3. with test value: ([]{}())\n",
      "(True, 8)\n",
      "test 4. with test value: (((())))\n",
      "(True, 8)\n",
      "test 5. with test value: [}([){]\n",
      "(False, 1)\n",
      "test 6. with test value: }[]{()}\n",
      "(False, 0)\n",
      "test 7. with test value: [(}[]{)]\n",
      "(False, 2)\n",
      "test 8. with test value: ([]{}()))\n",
      "(False, 8)\n"
     ]
    }
   ],
   "source": [
    "test_data = ['([{}])', '(([{])', '([]{}())', '(((())))',\n",
    "             '[}([){]', '}[]{()}', '[(}[]{)]', '([]{}()))']\n",
    "\n",
    "for i, x in enumerate(test_data):\n",
    "    print(f'test {i + 1}. with test value: {x}')\n",
    "    print(is_balanced(x))"
   ]
  },
  {
   "cell_type": "code",
   "execution_count": null,
   "metadata": {},
   "outputs": [],
   "source": []
  }
 ],
 "metadata": {
  "kernelspec": {
   "display_name": "Python 3",
   "language": "python",
   "name": "python3"
  },
  "language_info": {
   "codemirror_mode": {
    "name": "ipython",
    "version": 3
   },
   "file_extension": ".py",
   "mimetype": "text/x-python",
   "name": "python",
   "nbconvert_exporter": "python",
   "pygments_lexer": "ipython3",
   "version": "3.8.3"
  }
 },
 "nbformat": 4,
 "nbformat_minor": 4
}
