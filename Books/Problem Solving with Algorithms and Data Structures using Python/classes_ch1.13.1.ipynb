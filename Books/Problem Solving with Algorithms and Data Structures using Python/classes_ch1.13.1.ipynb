{
 "cells": [
  {
   "cell_type": "markdown",
   "metadata": {},
   "source": [
    "## Implementing a user-defined class - *Fraction*:\n",
    "\n",
    "Construct a class to implement the abstract data type Fraction.  \n",
    "\n",
    "A fraction consists of two parts:\n",
    " - the top value - the numerator - any integer. \n",
    " - the bottom value - the denominator - any integer greater than 0 \n",
    "\n",
    "TO DO:\n",
    " - write methods to implement *, /, and -  \n",
    " - implement comparison operators > and <  "
   ]
  },
  {
   "cell_type": "code",
   "execution_count": 13,
   "metadata": {},
   "outputs": [
    {
     "name": "stdout",
     "output_type": "stream",
     "text": [
      "6/8\n",
      "6/8\n",
      "3/2\n",
      "2\n"
     ]
    }
   ],
   "source": [
    "class Fraction:\n",
    "    def __init__(self, top, bottom):\n",
    "        self.num = top  # numerator\n",
    "        self.den = bottom  # denominator\n",
    "        \n",
    "    def show(self):\n",
    "        print(f'{self.num}/{self.den}')\n",
    "    \n",
    "    def __str__(self):\n",
    "        return f'{self.num}/{self.den}'\n",
    "    \n",
    "    @staticmethod\n",
    "    def gcd(m, n):\n",
    "        \"\"\"greatest common divisor\"\"\"\n",
    "        while m%n != 0:\n",
    "            old_m = m\n",
    "            old_n = n\n",
    "            \n",
    "            m = old_n\n",
    "            n = old_m % old_n\n",
    "        \n",
    "        return n\n",
    "    \n",
    "    def __add__(self, other_fraction):\n",
    "        new_num = (self.num * other_fraction.den + \n",
    "                  self.den * other_fraction.num)\n",
    "        new_den = self.den * other_fraction.den\n",
    "        \n",
    "        common = self.gcd(new_num, new_den)\n",
    "        \n",
    "        return Fraction(new_num//common, new_den//common)\n",
    "    \n",
    "    def __eq__(self, other):\n",
    "        first_num = self.num * other.den\n",
    "        second_num = self.den * other.num\n",
    "        \n",
    "        return first_num == second_num\n",
    "        \n",
    "myf = Fraction(6, 8)\n",
    "myf.show()\n",
    "print(myf)\n",
    "myf2 = Fraction(12, 16)\n",
    "f3 = myf + myf2\n",
    "print(f3)\n",
    "print(myf.gcd(8, 6))"
   ]
  },
  {
   "cell_type": "code",
   "execution_count": null,
   "metadata": {},
   "outputs": [],
   "source": []
  }
 ],
 "metadata": {
  "kernelspec": {
   "display_name": "Python 3",
   "language": "python",
   "name": "python3"
  },
  "language_info": {
   "codemirror_mode": {
    "name": "ipython",
    "version": 3
   },
   "file_extension": ".py",
   "mimetype": "text/x-python",
   "name": "python",
   "nbconvert_exporter": "python",
   "pygments_lexer": "ipython3",
   "version": "3.8.3"
  }
 },
 "nbformat": 4,
 "nbformat_minor": 4
}
